{
 "cells": [
  {
   "cell_type": "markdown",
   "id": "357747b7",
   "metadata": {},
   "source": [
    "# Profitable App Profiles for the App Store and Google Play Markets\n",
    "\n",
    "The aim of this project is to determine mobile app profiles that are profitable in the App Store and Google Play markets. In this scenario, I am a data analyst for a company that produces mobile apps for Andriod and iOS. My job is to enable the developer team to make data-driven decisions regarding the types of apps they build.\n",
    "\n",
    "The company only produces apps that are free to download and install; making the main source of revenue in-app ads. Therefore, revenue from any given app is driven mostly by the number of users. The goal of this project is to understand what kinds of apps are likely to attract users to inform the developer team."
   ]
  },
  {
   "cell_type": "markdown",
   "id": "43a756d2",
   "metadata": {},
   "source": [
    "The function `exlore_data()` is used help us explore the data sets. It does the following:\n",
    "\n",
    "Takes in four parameters:\n",
    "- `dataset`, which will be a list of lists\n",
    "- `start and end`, which will both be integers and represent the starting and the ending indices of a slice from the dataset\n",
    "- `rows_and_columns`, which will be a Boolean and has False as a default argument\n",
    "\n",
    "Slices the dataset using `dataset[start:end]`\n",
    "\n",
    "Loops through the slice, and for each iteration, prints a row and adds a new line after that row using `print('\\n')`\n",
    "- The `\\n` in `print('\\n')` is a special character that won't print. Instead, the `\\n` character adds a new line, and we use `print('\\n')` to add some blank space between rows\n",
    "\n",
    "Prints the number of rows and columns if `rows_and_columns` is `True`\n",
    "- `dataset` shouldn't have a header row, or the function will print the wrong number of rows (one more row compared to the actual length)\n"
   ]
  },
  {
   "cell_type": "markdown",
   "id": "e0e7fb91",
   "metadata": {},
   "source": [
    "### Open and Explore the Data Sets"
   ]
  },
  {
   "cell_type": "code",
   "execution_count": 1,
   "id": "f6131f4e",
   "metadata": {
    "scrolled": true
   },
   "outputs": [],
   "source": [
    "from csv import reader\n",
    "\n",
    "### The Google Play data set ###\n",
    "opened_file = open(\"googleplaystore.csv\", encoding=\"utf8\")\n",
    "read_file = reader(opened_file)\n",
    "android = list(read_file)\n",
    "android_header = android[0]\n",
    "android = android[1:]\n",
    "\n",
    "### The App Store data set ###\n",
    "opened_file = open(\"AppleStore.csv\", encoding=\"utf8\")\n",
    "read_file = reader(opened_file)\n",
    "ios = list(read_file)\n",
    "ios_header = ios[0]\n",
    "ios = ios[1:]"
   ]
  },
  {
   "cell_type": "code",
   "execution_count": 2,
   "id": "215000bd",
   "metadata": {},
   "outputs": [],
   "source": [
    "def explore_data(dataset, start, end, rows_and_columns=False):\n",
    "    dataset_slice = dataset[start:end]\n",
    "    for row in dataset_slice:\n",
    "        print(row)\n",
    "        print(\"\\n\")  # adds a new (empty) line after each row\n",
    "\n",
    "    if rows_and_columns:\n",
    "        print(\"Number of rows:\", len(dataset))\n",
    "        print(\"Number of columns:\", len(dataset[0]))"
   ]
  },
  {
   "cell_type": "code",
   "execution_count": 3,
   "id": "1b082ab6",
   "metadata": {
    "scrolled": true
   },
   "outputs": [
    {
     "name": "stdout",
     "output_type": "stream",
     "text": [
      "['App', 'Category', 'Rating', 'Reviews', 'Size', 'Installs', 'Type', 'Price', 'Content Rating', 'Genres', 'Last Updated', 'Current Ver', 'Android Ver']\n",
      "\n",
      "\n",
      "['Photo Editor & Candy Camera & Grid & ScrapBook', 'ART_AND_DESIGN', '4.1', '159', '19M', '10,000+', 'Free', '0', 'Everyone', 'Art & Design', 'January 7, 2018', '1.0.0', '4.0.3 and up']\n",
      "\n",
      "\n",
      "['Coloring book moana', 'ART_AND_DESIGN', '3.9', '967', '14M', '500,000+', 'Free', '0', 'Everyone', 'Art & Design;Pretend Play', 'January 15, 2018', '2.0.0', '4.0.3 and up']\n",
      "\n",
      "\n",
      "['U Launcher Lite – FREE Live Cool Themes, Hide Apps', 'ART_AND_DESIGN', '4.7', '87510', '8.7M', '5,000,000+', 'Free', '0', 'Everyone', 'Art & Design', 'August 1, 2018', '1.2.4', '4.0.3 and up']\n",
      "\n",
      "\n",
      "Number of rows: 10841\n",
      "Number of columns: 13\n"
     ]
    }
   ],
   "source": [
    "print(android_header)\n",
    "print(\"\\n\")\n",
    "explore_data(android, 0, 3, True)"
   ]
  },
  {
   "cell_type": "code",
   "execution_count": 4,
   "id": "a23099dc",
   "metadata": {},
   "outputs": [
    {
     "name": "stdout",
     "output_type": "stream",
     "text": [
      "['id', 'track_name', 'size_bytes', 'currency', 'price', 'rating_count_tot', 'rating_count_ver', 'user_rating', 'user_rating_ver', 'ver', 'cont_rating', 'prime_genre', 'sup_devices.num', 'ipadSc_urls.num', 'lang.num', 'vpp_lic']\n",
      "\n",
      "\n",
      "['284882215', 'Facebook', '389879808', 'USD', '0.0', '2974676', '212', '3.5', '3.5', '95.0', '4+', 'Social Networking', '37', '1', '29', '1']\n",
      "\n",
      "\n",
      "['389801252', 'Instagram', '113954816', 'USD', '0.0', '2161558', '1289', '4.5', '4.0', '10.23', '12+', 'Photo & Video', '37', '0', '29', '1']\n",
      "\n",
      "\n",
      "['529479190', 'Clash of Clans', '116476928', 'USD', '0.0', '2130805', '579', '4.5', '4.5', '9.24.12', '9+', 'Games', '38', '5', '18', '1']\n",
      "\n",
      "\n",
      "Number of rows: 7197\n",
      "Number of columns: 16\n"
     ]
    }
   ],
   "source": [
    "print(ios_header)\n",
    "print(\"\\n\")\n",
    "explore_data(ios, 0, 3, True)"
   ]
  },
  {
   "cell_type": "markdown",
   "id": "f8961a84",
   "metadata": {},
   "source": [
    "### Detecting Wrong Data\n",
    "\n",
    "The Google Play data has a [dicussion section](https://www.kaggle.com/datasets/lava18/google-play-store-apps/discussion/66015) which describes and error with one of the rows (10472). The code below will confirm the findings of the discussion thread as well as locate any other erroneous data. "
   ]
  },
  {
   "cell_type": "code",
   "execution_count": 5,
   "id": "04d53d21",
   "metadata": {},
   "outputs": [
    {
     "name": "stdout",
     "output_type": "stream",
     "text": [
      "['Life Made WI-Fi Touchscreen Photo Frame', '1.9', '19', '3.0M', '1,000+', 'Free', '0', 'Everyone', '', 'February 11, 2018', '1.0.19', '4.0 and up']\n",
      "10472\n"
     ]
    }
   ],
   "source": [
    "for row in android:\n",
    "    if len(row) != len(android_header):\n",
    "        print(row)\n",
    "        print(android.index(row))"
   ]
  },
  {
   "cell_type": "code",
   "execution_count": 6,
   "id": "7a0f0936",
   "metadata": {},
   "outputs": [],
   "source": [
    "del android[10472]"
   ]
  },
  {
   "cell_type": "markdown",
   "id": "c588c7f9",
   "metadata": {},
   "source": [
    "### Removing Duplicate Entries\n",
    "\n",
    "The Google Play data set contains multiple entries for a single app. For example:"
   ]
  },
  {
   "cell_type": "code",
   "execution_count": 7,
   "id": "4d6697b1",
   "metadata": {},
   "outputs": [
    {
     "name": "stdout",
     "output_type": "stream",
     "text": [
      "['Instagram', 'SOCIAL', '4.5', '66577313', 'Varies with device', '1,000,000,000+', 'Free', '0', 'Teen', 'Social', 'July 31, 2018', 'Varies with device', 'Varies with device']\n",
      "['Instagram', 'SOCIAL', '4.5', '66577446', 'Varies with device', '1,000,000,000+', 'Free', '0', 'Teen', 'Social', 'July 31, 2018', 'Varies with device', 'Varies with device']\n",
      "['Instagram', 'SOCIAL', '4.5', '66577313', 'Varies with device', '1,000,000,000+', 'Free', '0', 'Teen', 'Social', 'July 31, 2018', 'Varies with device', 'Varies with device']\n",
      "['Instagram', 'SOCIAL', '4.5', '66509917', 'Varies with device', '1,000,000,000+', 'Free', '0', 'Teen', 'Social', 'July 31, 2018', 'Varies with device', 'Varies with device']\n"
     ]
    }
   ],
   "source": [
    "for app in android:\n",
    "    name = app[0]\n",
    "    if name == \"Instagram\":\n",
    "        print(app)"
   ]
  },
  {
   "cell_type": "markdown",
   "id": "f573120f",
   "metadata": {},
   "source": [
    "Determining the number of times duplicate entries occurs:"
   ]
  },
  {
   "cell_type": "code",
   "execution_count": 8,
   "id": "37a69cd7",
   "metadata": {},
   "outputs": [
    {
     "name": "stdout",
     "output_type": "stream",
     "text": [
      "Number of duplicate apps: 1181 \n",
      "\n",
      "Examples of duplicate apps: ['Quick PDF Scanner + OCR FREE', 'Box', 'Google My Business', 'ZOOM Cloud Meetings', 'join.me - Simple Meetings', 'Box', 'Zenefits', 'Google Ads', 'Google My Business', 'Slack', 'FreshBooks Classic', 'Insightly CRM', 'QuickBooks Accounting: Invoicing & Expenses', 'HipChat - Chat Built for Teams', 'Xero Accounting Software']\n"
     ]
    }
   ],
   "source": [
    "duplicate_apps = []\n",
    "unique_apps = []\n",
    "\n",
    "for app in android:\n",
    "    name = app[0]\n",
    "    if name in unique_apps:\n",
    "        duplicate_apps.append(name)\n",
    "    else:\n",
    "        unique_apps.append(name)\n",
    "\n",
    "print(\"Number of duplicate apps:\", len(duplicate_apps), \"\\n\")\n",
    "print(\"Examples of duplicate apps:\", duplicate_apps[:15])"
   ]
  },
  {
   "cell_type": "markdown",
   "id": "60928757",
   "metadata": {},
   "source": [
    "The main difference between duplicate apps is the number of reviews (column 4). "
   ]
  },
  {
   "cell_type": "code",
   "execution_count": 9,
   "id": "52745c1e",
   "metadata": {},
   "outputs": [
    {
     "name": "stdout",
     "output_type": "stream",
     "text": [
      "['Instagram', 'SOCIAL', '4.5', '66577313', 'Varies with device', '1,000,000,000+', 'Free', '0', 'Teen', 'Social', 'July 31, 2018', 'Varies with device', 'Varies with device']\n",
      "['Instagram', 'SOCIAL', '4.5', '66577446', 'Varies with device', '1,000,000,000+', 'Free', '0', 'Teen', 'Social', 'July 31, 2018', 'Varies with device', 'Varies with device']\n",
      "['Instagram', 'SOCIAL', '4.5', '66577313', 'Varies with device', '1,000,000,000+', 'Free', '0', 'Teen', 'Social', 'July 31, 2018', 'Varies with device', 'Varies with device']\n",
      "['Instagram', 'SOCIAL', '4.5', '66509917', 'Varies with device', '1,000,000,000+', 'Free', '0', 'Teen', 'Social', 'July 31, 2018', 'Varies with device', 'Varies with device']\n"
     ]
    }
   ],
   "source": [
    "for app in android:\n",
    "    name = app[0]\n",
    "    if name == \"Instagram\":\n",
    "        print(app)"
   ]
  },
  {
   "cell_type": "markdown",
   "id": "bbf8aba0",
   "metadata": {},
   "source": [
    "The different numbers show that the data was collected at different times. It can be reasoned that the higher the number for reviews, the more recent the data is. Therefore only the row with the highest number of review will be kept. "
   ]
  },
  {
   "cell_type": "code",
   "execution_count": 10,
   "id": "5108fdf7",
   "metadata": {},
   "outputs": [
    {
     "name": "stdout",
     "output_type": "stream",
     "text": [
      "Expect length: 9659\n",
      "Actual length: 9659\n"
     ]
    }
   ],
   "source": [
    "reviews_max = {}\n",
    "\n",
    "for app in android:\n",
    "    name = app[0]\n",
    "    n_reviews = float(app[3])\n",
    "    if name in reviews_max and reviews_max[name] < n_reviews:\n",
    "        reviews_max[name] = n_reviews\n",
    "\n",
    "    elif name not in reviews_max:\n",
    "        reviews_max[name] = n_reviews\n",
    "\n",
    "print(\"Expect length:\", len(android) - 1181)\n",
    "print(\"Actual length:\", len(reviews_max))"
   ]
  },
  {
   "cell_type": "markdown",
   "id": "17b9bd77",
   "metadata": {},
   "source": [
    "Cleaned Android Data"
   ]
  },
  {
   "cell_type": "code",
   "execution_count": 11,
   "id": "f7d0b87b",
   "metadata": {},
   "outputs": [
    {
     "name": "stdout",
     "output_type": "stream",
     "text": [
      "['Photo Editor & Candy Camera & Grid & ScrapBook', 'ART_AND_DESIGN', '4.1', '159', '19M', '10,000+', 'Free', '0', 'Everyone', 'Art & Design', 'January 7, 2018', '1.0.0', '4.0.3 and up']\n",
      "\n",
      "\n",
      "['U Launcher Lite – FREE Live Cool Themes, Hide Apps', 'ART_AND_DESIGN', '4.7', '87510', '8.7M', '5,000,000+', 'Free', '0', 'Everyone', 'Art & Design', 'August 1, 2018', '1.2.4', '4.0.3 and up']\n",
      "\n",
      "\n",
      "['Sketch - Draw & Paint', 'ART_AND_DESIGN', '4.5', '215644', '25M', '50,000,000+', 'Free', '0', 'Teen', 'Art & Design', 'June 8, 2018', 'Varies with device', '4.2 and up']\n",
      "\n",
      "\n",
      "Number of rows: 9659\n",
      "Number of columns: 13\n"
     ]
    }
   ],
   "source": [
    "android_clean = []\n",
    "already_added = []\n",
    "\n",
    "for app in android:\n",
    "    name = app[0]\n",
    "    n_reviews = float(app[3])\n",
    "    if (n_reviews == reviews_max[name]) and (name not in already_added):\n",
    "        android_clean.append(app)\n",
    "        already_added.append(name)\n",
    "\n",
    "explore_data(android_clean, 0, 3, True)"
   ]
  },
  {
   "cell_type": "markdown",
   "id": "47e3eeca",
   "metadata": {},
   "source": [
    "### Removing Non-English Apps\n",
    "\n",
    "The company in the scenario only creates app that are targeted towards an English-speaking audience. English characters are found between 0 and 127 utilizing the ASCII standard. The function below is unable to handle special symbols, such as emojis and trademark, that are used in English app names."
   ]
  },
  {
   "cell_type": "code",
   "execution_count": 12,
   "id": "b1226c46",
   "metadata": {},
   "outputs": [
    {
     "name": "stdout",
     "output_type": "stream",
     "text": [
      "True\n",
      "False\n",
      "False\n",
      "False\n"
     ]
    }
   ],
   "source": [
    "def is_english(a_string):\n",
    "    for character in a_string:\n",
    "        if ord(character) > 127:\n",
    "            return False\n",
    "    return True\n",
    "\n",
    "\n",
    "print(is_english(\"Instagram\"))\n",
    "print(is_english(\"爱奇艺PPS -《欢乐颂2》电视剧热播\"))\n",
    "print(is_english(\"Docs To Go™ Free Office Suite\"))\n",
    "print(is_english(\"Instachat 😜\"))"
   ]
  },
  {
   "cell_type": "markdown",
   "id": "ef0a2e09",
   "metadata": {},
   "source": [
    "To minimize the loss of data, apps will only be removed if they contain more that three characters that are above the 0-127 ASCII range."
   ]
  },
  {
   "cell_type": "code",
   "execution_count": 13,
   "id": "6b950832",
   "metadata": {},
   "outputs": [
    {
     "name": "stdout",
     "output_type": "stream",
     "text": [
      "True\n",
      "False\n",
      "True\n",
      "True\n"
     ]
    }
   ],
   "source": [
    "def is_english(a_string):\n",
    "    non_ascii = 0\n",
    "\n",
    "    for character in a_string:\n",
    "        if ord(character) > 127:\n",
    "            non_ascii += 1\n",
    "\n",
    "    if non_ascii > 3:\n",
    "        return False\n",
    "    else:\n",
    "        return True\n",
    "\n",
    "\n",
    "print(is_english(\"Instagram\"))\n",
    "print(is_english(\"爱奇艺PPS -《欢乐颂2》电视剧热播\"))\n",
    "print(is_english(\"Docs To Go™ Free Office Suite\"))\n",
    "print(is_english(\"Instachat 😜\"))"
   ]
  },
  {
   "cell_type": "code",
   "execution_count": 14,
   "id": "c99d13b5",
   "metadata": {},
   "outputs": [
    {
     "name": "stdout",
     "output_type": "stream",
     "text": [
      "['Photo Editor & Candy Camera & Grid & ScrapBook', 'ART_AND_DESIGN', '4.1', '159', '19M', '10,000+', 'Free', '0', 'Everyone', 'Art & Design', 'January 7, 2018', '1.0.0', '4.0.3 and up']\n",
      "\n",
      "\n",
      "['U Launcher Lite – FREE Live Cool Themes, Hide Apps', 'ART_AND_DESIGN', '4.7', '87510', '8.7M', '5,000,000+', 'Free', '0', 'Everyone', 'Art & Design', 'August 1, 2018', '1.2.4', '4.0.3 and up']\n",
      "\n",
      "\n",
      "['Sketch - Draw & Paint', 'ART_AND_DESIGN', '4.5', '215644', '25M', '50,000,000+', 'Free', '0', 'Teen', 'Art & Design', 'June 8, 2018', 'Varies with device', '4.2 and up']\n",
      "\n",
      "\n",
      "Number of rows: 9614\n",
      "Number of columns: 13\n",
      "\n",
      "\n",
      "['284882215', 'Facebook', '389879808', 'USD', '0.0', '2974676', '212', '3.5', '3.5', '95.0', '4+', 'Social Networking', '37', '1', '29', '1']\n",
      "\n",
      "\n",
      "['389801252', 'Instagram', '113954816', 'USD', '0.0', '2161558', '1289', '4.5', '4.0', '10.23', '12+', 'Photo & Video', '37', '0', '29', '1']\n",
      "\n",
      "\n",
      "['529479190', 'Clash of Clans', '116476928', 'USD', '0.0', '2130805', '579', '4.5', '4.5', '9.24.12', '9+', 'Games', '38', '5', '18', '1']\n",
      "\n",
      "\n",
      "Number of rows: 7197\n",
      "Number of columns: 16\n"
     ]
    }
   ],
   "source": [
    "android_english = []\n",
    "ios_english = []\n",
    "\n",
    "for app in android_clean:\n",
    "    name = app[0]\n",
    "    if is_english(name):\n",
    "        android_english.append(app)\n",
    "\n",
    "for app in ios:\n",
    "    name = app[0]\n",
    "    if is_english(name):\n",
    "        ios_english.append(app)\n",
    "\n",
    "explore_data(android_english, 0, 3, True)\n",
    "print(\"\\n\")\n",
    "explore_data(ios_english, 0, 3, True)"
   ]
  },
  {
   "cell_type": "markdown",
   "id": "fb67848b",
   "metadata": {},
   "source": [
    "## Isolating Free Apps"
   ]
  },
  {
   "cell_type": "code",
   "execution_count": 15,
   "id": "3795743b",
   "metadata": {},
   "outputs": [
    {
     "name": "stdout",
     "output_type": "stream",
     "text": [
      "['Photo Editor & Candy Camera & Grid & ScrapBook', 'ART_AND_DESIGN', '4.1', '159', '19M', '10,000+', 'Free', '0', 'Everyone', 'Art & Design', 'January 7, 2018', '1.0.0', '4.0.3 and up']\n",
      "\n",
      "\n",
      "['U Launcher Lite – FREE Live Cool Themes, Hide Apps', 'ART_AND_DESIGN', '4.7', '87510', '8.7M', '5,000,000+', 'Free', '0', 'Everyone', 'Art & Design', 'August 1, 2018', '1.2.4', '4.0.3 and up']\n",
      "\n",
      "\n",
      "['Sketch - Draw & Paint', 'ART_AND_DESIGN', '4.5', '215644', '25M', '50,000,000+', 'Free', '0', 'Teen', 'Art & Design', 'June 8, 2018', 'Varies with device', '4.2 and up']\n",
      "\n",
      "\n",
      "Number of rows: 8864\n",
      "Number of columns: 13\n",
      "\n",
      "\n",
      "['284882215', 'Facebook', '389879808', 'USD', '0.0', '2974676', '212', '3.5', '3.5', '95.0', '4+', 'Social Networking', '37', '1', '29', '1']\n",
      "\n",
      "\n",
      "['389801252', 'Instagram', '113954816', 'USD', '0.0', '2161558', '1289', '4.5', '4.0', '10.23', '12+', 'Photo & Video', '37', '0', '29', '1']\n",
      "\n",
      "\n",
      "['529479190', 'Clash of Clans', '116476928', 'USD', '0.0', '2130805', '579', '4.5', '4.5', '9.24.12', '9+', 'Games', '38', '5', '18', '1']\n",
      "\n",
      "\n",
      "Number of rows: 4056\n",
      "Number of columns: 16\n"
     ]
    }
   ],
   "source": [
    "android_final = []\n",
    "ios_final = []\n",
    "\n",
    "for app in android_english:\n",
    "    price = app[7]\n",
    "    if price == \"0\":\n",
    "        android_final.append(app)\n",
    "\n",
    "for app in ios_english:\n",
    "    price = app[4]\n",
    "    if price == \"0.0\":\n",
    "        ios_final.append(app)\n",
    "\n",
    "\n",
    "explore_data(android_final, 0, 3, True)\n",
    "print(\"\\n\")\n",
    "explore_data(ios_final, 0, 3, True)"
   ]
  },
  {
   "cell_type": "markdown",
   "id": "076af683",
   "metadata": {},
   "source": [
    "## Analysis\n",
    "\n",
    "### Strategy\n",
    "\n",
    "To minimize risks and overhead, our validation strategy for an app idea is comprised of three steps:\n",
    "\n",
    "1. Build a minimal Android version of the app, and add it to Google Play.\n",
    "2. If the app has a good response from users, we then develop it further.\n",
    "3. If the app is profitable after six months, we also build an iOS version of the app and add it to the App Store.\n",
    "\n",
    "Because our end goal is to add the app on both the App Store and Google Play, we need to find app profiles that are successful on both markets. For instance, a profile that might work well for both markets might be a productivity app that makes use of gamification.\n",
    "\n",
    "We will start by generating frequency tables for the most common genres in each market. Genre data can be found in the columns `Category` and `Genres` for the Andorid data set and in `prime_genre` for the App Store data."
   ]
  },
  {
   "cell_type": "code",
   "execution_count": 16,
   "id": "023fc980",
   "metadata": {},
   "outputs": [],
   "source": [
    "def freq_table(dataset, index):\n",
    "    table = {}\n",
    "    total = 0\n",
    "\n",
    "    for row in dataset:\n",
    "        total += 1\n",
    "        value = row[index]\n",
    "        if value in table:\n",
    "            table[value] += 1\n",
    "        else:\n",
    "            table[value] = 1\n",
    "\n",
    "    table_percent = {}\n",
    "    for key in table:\n",
    "        percent = (table[key] / total) * 100\n",
    "        table_percent[key] = percent\n",
    "\n",
    "    return table_percent\n",
    "\n",
    "\n",
    "# display_table is a helper function which sorts a data set in descending order.\n",
    "def display_table(dataset, index):\n",
    "    table = freq_table(dataset, index)\n",
    "    table_display = []\n",
    "    for key in table:\n",
    "        key_val_as_tuple = (table[key], key)\n",
    "        table_display.append(key_val_as_tuple)\n",
    "\n",
    "    table_sorted = sorted(table_display, reverse=True)\n",
    "    for entry in table_sorted:\n",
    "        print(entry[1], \":\", entry[0])"
   ]
  },
  {
   "cell_type": "markdown",
   "id": "6041ec99",
   "metadata": {},
   "source": [
    "Frequency table for ios `prime_genre`"
   ]
  },
  {
   "cell_type": "code",
   "execution_count": 17,
   "id": "2a1645bc",
   "metadata": {
    "scrolled": false
   },
   "outputs": [
    {
     "name": "stdout",
     "output_type": "stream",
     "text": [
      "Games : 55.64595660749507\n",
      "Entertainment : 8.234714003944774\n",
      "Photo & Video : 4.117357001972387\n",
      "Social Networking : 3.5256410256410255\n",
      "Education : 3.2544378698224854\n",
      "Shopping : 2.983234714003945\n",
      "Utilities : 2.687376725838264\n",
      "Lifestyle : 2.3175542406311638\n",
      "Finance : 2.0710059171597637\n",
      "Sports : 1.947731755424063\n",
      "Health & Fitness : 1.8737672583826428\n",
      "Music : 1.6518737672583828\n",
      "Book : 1.6272189349112427\n",
      "Productivity : 1.5285996055226825\n",
      "News : 1.4299802761341223\n",
      "Travel : 1.3806706114398422\n",
      "Food & Drink : 1.0601577909270217\n",
      "Weather : 0.7642998027613412\n",
      "Reference : 0.4930966469428008\n",
      "Navigation : 0.4930966469428008\n",
      "Business : 0.4930966469428008\n",
      "Catalogs : 0.22189349112426035\n",
      "Medical : 0.19723865877712032\n"
     ]
    }
   ],
   "source": [
    "display_table(ios_final, -5)"
   ]
  },
  {
   "cell_type": "markdown",
   "id": "0c198a5f",
   "metadata": {},
   "source": [
    "Analysis of the table above indicates that the most common app in the App Store are ones designed for fun (games, entertainment, photo & video, and Social Networking)"
   ]
  },
  {
   "cell_type": "code",
   "execution_count": 18,
   "id": "ba2c2b52",
   "metadata": {},
   "outputs": [
    {
     "name": "stdout",
     "output_type": "stream",
     "text": [
      "FAMILY : 18.907942238267147\n",
      "GAME : 9.724729241877256\n",
      "TOOLS : 8.461191335740072\n",
      "BUSINESS : 4.591606498194946\n",
      "LIFESTYLE : 3.9034296028880866\n",
      "PRODUCTIVITY : 3.892148014440433\n",
      "FINANCE : 3.7003610108303246\n",
      "MEDICAL : 3.531137184115524\n",
      "SPORTS : 3.395758122743682\n",
      "PERSONALIZATION : 3.3167870036101084\n",
      "COMMUNICATION : 3.2378158844765346\n",
      "HEALTH_AND_FITNESS : 3.0798736462093865\n",
      "PHOTOGRAPHY : 2.944494584837545\n",
      "NEWS_AND_MAGAZINES : 2.7978339350180503\n",
      "SOCIAL : 2.6624548736462095\n",
      "TRAVEL_AND_LOCAL : 2.33528880866426\n",
      "SHOPPING : 2.2450361010830324\n",
      "BOOKS_AND_REFERENCE : 2.1435018050541514\n",
      "DATING : 1.861462093862816\n",
      "VIDEO_PLAYERS : 1.7937725631768955\n",
      "MAPS_AND_NAVIGATION : 1.3989169675090252\n",
      "FOOD_AND_DRINK : 1.2409747292418771\n",
      "EDUCATION : 1.1620036101083033\n",
      "ENTERTAINMENT : 0.9589350180505415\n",
      "LIBRARIES_AND_DEMO : 0.9363718411552346\n",
      "AUTO_AND_VEHICLES : 0.9250902527075812\n",
      "HOUSE_AND_HOME : 0.8235559566787004\n",
      "WEATHER : 0.8009927797833934\n",
      "EVENTS : 0.7107400722021661\n",
      "PARENTING : 0.6543321299638989\n",
      "ART_AND_DESIGN : 0.6430505415162455\n",
      "COMICS : 0.6204873646209386\n",
      "BEAUTY : 0.5979241877256317\n"
     ]
    }
   ],
   "source": [
    "display_table(android_final, 1)  # Category"
   ]
  },
  {
   "cell_type": "markdown",
   "id": "cd295fe9",
   "metadata": {},
   "source": [
    "Analysis by `Category` of the Google Play data shows that most of the apps are dedicated to \"Family\". In the Play store it appears that many of the apps in the \"Family\" category are mostly kid appropriate games. "
   ]
  },
  {
   "cell_type": "code",
   "execution_count": 19,
   "id": "0532f617",
   "metadata": {
    "scrolled": false
   },
   "outputs": [
    {
     "name": "stdout",
     "output_type": "stream",
     "text": [
      "Tools : 8.449909747292418\n",
      "Entertainment : 6.069494584837545\n",
      "Education : 5.347472924187725\n",
      "Business : 4.591606498194946\n",
      "Productivity : 3.892148014440433\n",
      "Lifestyle : 3.892148014440433\n",
      "Finance : 3.7003610108303246\n",
      "Medical : 3.531137184115524\n",
      "Sports : 3.463447653429603\n",
      "Personalization : 3.3167870036101084\n",
      "Communication : 3.2378158844765346\n",
      "Action : 3.1024368231046933\n",
      "Health & Fitness : 3.0798736462093865\n",
      "Photography : 2.944494584837545\n",
      "News & Magazines : 2.7978339350180503\n",
      "Social : 2.6624548736462095\n",
      "Travel & Local : 2.3240072202166067\n",
      "Shopping : 2.2450361010830324\n",
      "Books & Reference : 2.1435018050541514\n",
      "Simulation : 2.0419675090252705\n",
      "Dating : 1.861462093862816\n",
      "Arcade : 1.8501805054151623\n",
      "Video Players & Editors : 1.7712093862815883\n",
      "Casual : 1.7599277978339352\n",
      "Maps & Navigation : 1.3989169675090252\n",
      "Food & Drink : 1.2409747292418771\n",
      "Puzzle : 1.128158844765343\n",
      "Racing : 0.9927797833935018\n",
      "Role Playing : 0.9363718411552346\n",
      "Libraries & Demo : 0.9363718411552346\n",
      "Auto & Vehicles : 0.9250902527075812\n",
      "Strategy : 0.9138086642599278\n",
      "House & Home : 0.8235559566787004\n",
      "Weather : 0.8009927797833934\n",
      "Events : 0.7107400722021661\n",
      "Adventure : 0.6768953068592057\n",
      "Comics : 0.6092057761732852\n",
      "Beauty : 0.5979241877256317\n",
      "Art & Design : 0.5979241877256317\n",
      "Parenting : 0.4963898916967509\n",
      "Card : 0.45126353790613716\n",
      "Casino : 0.42870036101083037\n",
      "Trivia : 0.41741877256317694\n",
      "Educational;Education : 0.39485559566787\n",
      "Board : 0.3835740072202166\n",
      "Educational : 0.3722924187725632\n",
      "Education;Education : 0.33844765342960287\n",
      "Word : 0.2594765342960289\n",
      "Casual;Pretend Play : 0.236913357400722\n",
      "Music : 0.2030685920577617\n",
      "Racing;Action & Adventure : 0.16922382671480143\n",
      "Puzzle;Brain Games : 0.16922382671480143\n",
      "Entertainment;Music & Video : 0.16922382671480143\n",
      "Casual;Brain Games : 0.13537906137184114\n",
      "Casual;Action & Adventure : 0.13537906137184114\n",
      "Arcade;Action & Adventure : 0.12409747292418773\n",
      "Action;Action & Adventure : 0.10153429602888085\n",
      "Educational;Pretend Play : 0.09025270758122744\n",
      "Simulation;Action & Adventure : 0.078971119133574\n",
      "Parenting;Education : 0.078971119133574\n",
      "Entertainment;Brain Games : 0.078971119133574\n",
      "Board;Brain Games : 0.078971119133574\n",
      "Parenting;Music & Video : 0.06768953068592057\n",
      "Educational;Brain Games : 0.06768953068592057\n",
      "Casual;Creativity : 0.06768953068592057\n",
      "Art & Design;Creativity : 0.06768953068592057\n",
      "Education;Pretend Play : 0.056407942238267145\n",
      "Role Playing;Pretend Play : 0.04512635379061372\n",
      "Education;Creativity : 0.04512635379061372\n",
      "Role Playing;Action & Adventure : 0.033844765342960284\n",
      "Puzzle;Action & Adventure : 0.033844765342960284\n",
      "Entertainment;Creativity : 0.033844765342960284\n",
      "Entertainment;Action & Adventure : 0.033844765342960284\n",
      "Educational;Creativity : 0.033844765342960284\n",
      "Educational;Action & Adventure : 0.033844765342960284\n",
      "Education;Music & Video : 0.033844765342960284\n",
      "Education;Brain Games : 0.033844765342960284\n",
      "Education;Action & Adventure : 0.033844765342960284\n",
      "Adventure;Action & Adventure : 0.033844765342960284\n",
      "Video Players & Editors;Music & Video : 0.02256317689530686\n",
      "Sports;Action & Adventure : 0.02256317689530686\n",
      "Simulation;Pretend Play : 0.02256317689530686\n",
      "Puzzle;Creativity : 0.02256317689530686\n",
      "Music;Music & Video : 0.02256317689530686\n",
      "Entertainment;Pretend Play : 0.02256317689530686\n",
      "Casual;Education : 0.02256317689530686\n",
      "Board;Action & Adventure : 0.02256317689530686\n",
      "Video Players & Editors;Creativity : 0.01128158844765343\n",
      "Trivia;Education : 0.01128158844765343\n",
      "Travel & Local;Action & Adventure : 0.01128158844765343\n",
      "Tools;Education : 0.01128158844765343\n",
      "Strategy;Education : 0.01128158844765343\n",
      "Strategy;Creativity : 0.01128158844765343\n",
      "Strategy;Action & Adventure : 0.01128158844765343\n",
      "Simulation;Education : 0.01128158844765343\n",
      "Role Playing;Brain Games : 0.01128158844765343\n",
      "Racing;Pretend Play : 0.01128158844765343\n",
      "Puzzle;Education : 0.01128158844765343\n",
      "Parenting;Brain Games : 0.01128158844765343\n",
      "Music & Audio;Music & Video : 0.01128158844765343\n",
      "Lifestyle;Pretend Play : 0.01128158844765343\n",
      "Lifestyle;Education : 0.01128158844765343\n",
      "Health & Fitness;Education : 0.01128158844765343\n",
      "Health & Fitness;Action & Adventure : 0.01128158844765343\n",
      "Entertainment;Education : 0.01128158844765343\n",
      "Communication;Creativity : 0.01128158844765343\n",
      "Comics;Creativity : 0.01128158844765343\n",
      "Casual;Music & Video : 0.01128158844765343\n",
      "Card;Action & Adventure : 0.01128158844765343\n",
      "Books & Reference;Education : 0.01128158844765343\n",
      "Art & Design;Pretend Play : 0.01128158844765343\n",
      "Art & Design;Action & Adventure : 0.01128158844765343\n",
      "Arcade;Pretend Play : 0.01128158844765343\n",
      "Adventure;Education : 0.01128158844765343\n"
     ]
    }
   ],
   "source": [
    "display_table(android_final, -4)  # Genre"
   ]
  },
  {
   "cell_type": "markdown",
   "id": "65db7af1",
   "metadata": {},
   "source": [
    "Analysis by `Genre` of the Google Play data reveals a data set that is too granular for our analysis."
   ]
  },
  {
   "cell_type": "markdown",
   "id": "994edaea",
   "metadata": {},
   "source": [
    "### App Store: Most Popular Apps by Genre\n",
    "\n",
    "The App Store data does not contain information on the number of installs for a particular app. As a proxy, the number of ratings will be used to assess popularity."
   ]
  },
  {
   "cell_type": "code",
   "execution_count": 20,
   "id": "442c82fc",
   "metadata": {},
   "outputs": [
    {
     "name": "stdout",
     "output_type": "stream",
     "text": [
      "['id', 'track_name', 'size_bytes', 'currency', 'price', 'rating_count_tot', 'rating_count_ver', 'user_rating', 'user_rating_ver', 'ver', 'cont_rating', 'prime_genre', 'sup_devices.num', 'ipadSc_urls.num', 'lang.num', 'vpp_lic']\n"
     ]
    }
   ],
   "source": [
    "print(ios_header)"
   ]
  },
  {
   "cell_type": "code",
   "execution_count": 21,
   "id": "77760ae7",
   "metadata": {},
   "outputs": [
    {
     "name": "stdout",
     "output_type": "stream",
     "text": [
      "Social Networking : 53078.195804195806\n",
      "Photo & Video : 27249.892215568863\n",
      "Games : 18924.68896765618\n",
      "Music : 56482.02985074627\n",
      "Reference : 67447.9\n",
      "Health & Fitness : 19952.315789473683\n",
      "Weather : 47220.93548387097\n",
      "Utilities : 14010.100917431193\n",
      "Travel : 20216.01785714286\n",
      "Shopping : 18746.677685950413\n",
      "News : 15892.724137931034\n",
      "Navigation : 25972.05\n",
      "Lifestyle : 8978.308510638299\n",
      "Entertainment : 10822.961077844311\n",
      "Food & Drink : 20179.093023255813\n",
      "Sports : 20128.974683544304\n",
      "Book : 8498.333333333334\n",
      "Finance : 13522.261904761905\n",
      "Education : 6266.333333333333\n",
      "Productivity : 19053.887096774193\n",
      "Business : 6367.8\n",
      "Catalogs : 1779.5555555555557\n",
      "Medical : 459.75\n"
     ]
    }
   ],
   "source": [
    "ios_genres = freq_table(ios_final, -5)\n",
    "\n",
    "for genre in ios_genres:\n",
    "    total = 0\n",
    "    len_genre = 0\n",
    "\n",
    "    for app in ios_final:\n",
    "        genre_app = app[-5]\n",
    "        if genre_app == genre:\n",
    "            n_ratings = float(app[5])\n",
    "            total += n_ratings\n",
    "            len_genre += 1\n",
    "\n",
    "    avg_n_ratings = total / len_genre\n",
    "    print(genre, \":\", avg_n_ratings)"
   ]
  },
  {
   "cell_type": "markdown",
   "id": "59882e15",
   "metadata": {},
   "source": [
    "Breakdown of the most popular category (Music):"
   ]
  },
  {
   "cell_type": "code",
   "execution_count": 22,
   "id": "b5b9a1ff",
   "metadata": {},
   "outputs": [
    {
     "name": "stdout",
     "output_type": "stream",
     "text": [
      "Pandora - Music & Radio : 1126879\n",
      "Spotify Music : 878563\n",
      "Shazam - Discover music, artists, videos & lyrics : 402925\n",
      "iHeartRadio – Free Music & Radio Stations : 293228\n",
      "SoundCloud - Music & Audio : 135744\n",
      "Magic Piano by Smule : 131695\n",
      "Smule Sing! : 119316\n",
      "TuneIn Radio - MLB NBA Audiobooks Podcasts Music : 110420\n",
      "Amazon Music : 106235\n",
      "SoundHound Song Search & Music Player : 82602\n",
      "Sonos Controller : 48905\n",
      "Bandsintown Concerts : 30845\n",
      "Karaoke - Sing Karaoke, Unlimited Songs! : 28606\n",
      "My Mixtapez Music : 26286\n",
      "Sing Karaoke Songs Unlimited with StarMaker : 26227\n",
      "Ringtones for iPhone & Ringtone Maker : 25403\n",
      "Musi - Unlimited Music For YouTube : 25193\n",
      "AutoRap by Smule : 18202\n",
      "Spinrilla - Mixtapes For Free : 15053\n",
      "Napster - Top Music & Radio : 14268\n",
      "edjing Mix:DJ turntable to remix and scratch music : 13580\n",
      "Free Music - MP3 Streamer & Playlist Manager Pro : 13443\n",
      "Free Piano app by Yokee : 13016\n",
      "Google Play Music : 10118\n",
      "Certified Mixtapes - Hip Hop Albums & Mixtapes : 9975\n",
      "TIDAL : 7398\n",
      "YouTube Music : 7109\n",
      "Nicki Minaj: The Empire : 5196\n",
      "Sounds app - Music And Friends : 5126\n",
      "SongFlip - Free Music Streamer : 5004\n",
      "Simple Radio - Live AM & FM Radio Stations : 4787\n",
      "Deezer - Listen to your Favorite Music & Playlists : 4677\n",
      "Ringtones for iPhone with Ringtone Maker : 4013\n",
      "Bose SoundTouch : 3687\n",
      "Amazon Alexa : 3018\n",
      "DatPiff : 2815\n",
      "Trebel Music - Unlimited Music Downloader : 2570\n",
      "Free Music Play - Mp3 Streamer & Player : 2496\n",
      "Acapella from PicPlayPost : 2487\n",
      "Coach Guitar - Lessons & Easy Tabs For Beginners : 2416\n",
      "Musicloud - MP3 and FLAC Music Player for Cloud Platforms. : 2211\n",
      "Piano - Play Keyboard Music Games with Magic Tiles : 1636\n",
      "Boom: Best Equalizer & Magical Surround Sound : 1375\n",
      "Music Freedom - Unlimited Free MP3 Music Streaming : 1246\n",
      "AmpMe - A Portable Social Party Music Speaker : 1047\n",
      "Medly - Music Maker : 933\n",
      "Bose Connect : 915\n",
      "Music Memos : 909\n",
      "QQ音乐-来这里“发现・音乐” : 745\n",
      "UE BOOM : 612\n",
      "LiveMixtapes : 555\n",
      "NOISE : 355\n",
      "MP3 Music Player & Streamer for Clouds : 329\n",
      "Musical Video Maker - Create Music clips lip sync : 320\n",
      "Cloud Music Player - Downloader & Playlist Manager : 319\n",
      "Remixlive - Remix loops with pads : 288\n",
      "QQ音乐HD : 224\n",
      "Blocs Wave - Make & Record Music : 158\n",
      "PlayGround • Music At Your Fingertips : 150\n",
      "Music and Chill : 135\n",
      "The Singing Machine Mobile Karaoke App : 130\n",
      "radio.de - Der Radioplayer : 64\n",
      "Free Music -  Player & Streamer  for Dropbox, OneDrive & Google Drive : 46\n",
      "NRJ Radio : 38\n",
      "Smart Music: Streaming Videos and Radio : 17\n",
      "BOSS Tuner : 13\n",
      "PetitLyrics : 0\n"
     ]
    }
   ],
   "source": [
    "for app in ios_final:\n",
    "    if app[-5] == \"Music\":\n",
    "        print(app[1], \":\", app[5])  # Print the name and number of ratings"
   ]
  },
  {
   "cell_type": "markdown",
   "id": "663ec37d",
   "metadata": {},
   "source": [
    "### Google Play: Most Popular Apps by Genre"
   ]
  },
  {
   "cell_type": "code",
   "execution_count": 23,
   "id": "1f08856d",
   "metadata": {},
   "outputs": [
    {
     "name": "stdout",
     "output_type": "stream",
     "text": [
      "1,000,000+ : 15.726534296028879\n",
      "100,000+ : 11.552346570397113\n",
      "10,000,000+ : 10.548285198555957\n",
      "10,000+ : 10.198555956678701\n",
      "1,000+ : 8.393501805054152\n",
      "100+ : 6.915613718411552\n",
      "5,000,000+ : 6.825361010830325\n",
      "500,000+ : 5.561823104693141\n",
      "50,000+ : 4.7721119133574\n",
      "5,000+ : 4.512635379061372\n",
      "10+ : 3.5424187725631766\n",
      "500+ : 3.2490974729241873\n",
      "50,000,000+ : 2.3014440433213\n",
      "100,000,000+ : 2.1322202166064983\n",
      "50+ : 1.917870036101083\n",
      "5+ : 0.78971119133574\n",
      "1+ : 0.5076714801444043\n",
      "500,000,000+ : 0.2707581227436823\n",
      "1,000,000,000+ : 0.22563176895306858\n",
      "0+ : 0.04512635379061372\n",
      "0 : 0.01128158844765343\n"
     ]
    }
   ],
   "source": [
    "display_table(android_final, 5)  # Number of installs"
   ]
  },
  {
   "cell_type": "code",
   "execution_count": 24,
   "id": "7322630c",
   "metadata": {},
   "outputs": [
    {
     "name": "stdout",
     "output_type": "stream",
     "text": [
      "ART_AND_DESIGN : 1986335.0877192982\n",
      "AUTO_AND_VEHICLES : 647317.8170731707\n",
      "BEAUTY : 513151.88679245283\n",
      "BOOKS_AND_REFERENCE : 8767811.894736841\n",
      "BUSINESS : 1712290.1474201474\n",
      "COMICS : 817657.2727272727\n",
      "COMMUNICATION : 38456119.167247385\n",
      "DATING : 854028.8303030303\n",
      "EDUCATION : 1833495.145631068\n",
      "ENTERTAINMENT : 11640705.88235294\n",
      "EVENTS : 253542.22222222222\n",
      "FINANCE : 1387692.475609756\n",
      "FOOD_AND_DRINK : 1924897.7363636363\n",
      "HEALTH_AND_FITNESS : 4188821.9853479853\n",
      "HOUSE_AND_HOME : 1331540.5616438356\n",
      "LIBRARIES_AND_DEMO : 638503.734939759\n",
      "LIFESTYLE : 1437816.2687861272\n",
      "GAME : 15588015.603248259\n",
      "FAMILY : 3695641.8198090694\n",
      "MEDICAL : 120550.61980830671\n",
      "SOCIAL : 23253652.127118643\n",
      "SHOPPING : 7036877.311557789\n",
      "PHOTOGRAPHY : 17840110.40229885\n",
      "SPORTS : 3638640.1428571427\n",
      "TRAVEL_AND_LOCAL : 13984077.710144928\n",
      "TOOLS : 10801391.298666667\n",
      "PERSONALIZATION : 5201482.6122448975\n",
      "PRODUCTIVITY : 16787331.344927534\n",
      "PARENTING : 542603.6206896552\n",
      "WEATHER : 5074486.197183099\n",
      "VIDEO_PLAYERS : 24727872.452830188\n",
      "NEWS_AND_MAGAZINES : 9549178.467741935\n",
      "MAPS_AND_NAVIGATION : 4056941.7741935486\n"
     ]
    }
   ],
   "source": [
    "categories_android = freq_table(android_final, 1)\n",
    "\n",
    "for category in categories_android:\n",
    "    total = 0\n",
    "    len_category = 0\n",
    "    for app in android_final:\n",
    "        category_app = app[1]\n",
    "        if category_app == category:\n",
    "            n_installs = app[5]\n",
    "            n_installs = n_installs.replace(\",\", \"\")\n",
    "            n_installs = n_installs.replace(\"+\", \"\")\n",
    "            total += float(n_installs)\n",
    "            len_category += 1\n",
    "    avg_n_installs = total / len_category\n",
    "    print(category, \":\", avg_n_installs)"
   ]
  },
  {
   "cell_type": "code",
   "execution_count": 25,
   "id": "d162f382",
   "metadata": {
    "scrolled": false
   },
   "outputs": [
    {
     "name": "stdout",
     "output_type": "stream",
     "text": [
      "WhatsApp Messenger : 1,000,000,000+\n",
      "imo beta free calls and text : 100,000,000+\n",
      "Android Messages : 100,000,000+\n",
      "Google Duo - High Quality Video Calls : 500,000,000+\n",
      "Messenger – Text and Video Chat for Free : 1,000,000,000+\n",
      "imo free video calls and chat : 500,000,000+\n",
      "Skype - free IM & video calls : 1,000,000,000+\n",
      "Who : 100,000,000+\n",
      "GO SMS Pro - Messenger, Free Themes, Emoji : 100,000,000+\n",
      "LINE: Free Calls & Messages : 500,000,000+\n",
      "Google Chrome: Fast & Secure : 1,000,000,000+\n",
      "Firefox Browser fast & private : 100,000,000+\n",
      "UC Browser - Fast Download Private & Secure : 500,000,000+\n",
      "Gmail : 1,000,000,000+\n",
      "Hangouts : 1,000,000,000+\n",
      "Messenger Lite: Free Calls & Messages : 100,000,000+\n",
      "Kik : 100,000,000+\n",
      "KakaoTalk: Free Calls & Text : 100,000,000+\n",
      "Opera Mini - fast web browser : 100,000,000+\n",
      "Opera Browser: Fast and Secure : 100,000,000+\n",
      "Telegram : 100,000,000+\n",
      "Truecaller: Caller ID, SMS spam blocking & Dialer : 100,000,000+\n",
      "UC Browser Mini -Tiny Fast Private & Secure : 100,000,000+\n",
      "Viber Messenger : 500,000,000+\n",
      "WeChat : 100,000,000+\n",
      "Yahoo Mail – Stay Organized : 100,000,000+\n",
      "BBM - Free Calls & Messages : 100,000,000+\n"
     ]
    }
   ],
   "source": [
    "for app in android_final:\n",
    "    if app[1] == \"COMMUNICATION\" and (\n",
    "        app[5] == \"1,000,000,000+\"\n",
    "        or app[5] == \"500,000,000+\"\n",
    "        or app[5] == \"100,000,000+\"\n",
    "    ):\n",
    "        print(app[0], \":\", app[5])"
   ]
  }
 ],
 "metadata": {
  "kernelspec": {
   "display_name": "Python 3 (ipykernel)",
   "language": "python",
   "name": "python3"
  },
  "language_info": {
   "codemirror_mode": {
    "name": "ipython",
    "version": 3
   },
   "file_extension": ".py",
   "mimetype": "text/x-python",
   "name": "python",
   "nbconvert_exporter": "python",
   "pygments_lexer": "ipython3",
   "version": "3.12.1"
  }
 },
 "nbformat": 4,
 "nbformat_minor": 5
}
